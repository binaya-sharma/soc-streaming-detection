{
 "cells": [
  {
   "cell_type": "code",
   "execution_count": 7,
   "id": "35d8a2d2-15ee-444f-be24-11520cbea95f",
   "metadata": {},
   "outputs": [
    {
     "name": "stdout",
     "output_type": "stream",
     "text": [
      "+---+\n",
      "| id|\n",
      "+---+\n",
      "|  3|\n",
      "|  1|\n",
      "|  2|\n",
      "|  4|\n",
      "|  0|\n",
      "+---+\n",
      "\n"
     ]
    }
   ],
   "source": [
    "from pyspark.sql import SparkSession\n",
    "from delta import configure_spark_with_delta_pip\n",
    "\n",
    "spark = (SparkSession.builder\n",
    "         .config(\"spark.jars.packages\",\n",
    "                 \"io.delta:delta-spark_2.12:3.2.0,org.apache.spark:spark-sql-kafka-0-10_2.12:3.5.1\")\n",
    "         .config(\"spark.sql.extensions\",\"io.delta.sql.DeltaSparkSessionExtension\")\n",
    "         .config(\"spark.sql.catalog.spark_catalog\",\"org.apache.spark.sql.delta.catalog.DeltaCatalog\")\n",
    "         .config(\"spark.hadoop.fs.s3a.endpoint\",\"http://minio:9000\")\n",
    "         .config(\"spark.hadoop.fs.s3a.path.style.access\",\"true\")\n",
    "         .config(\"spark.hadoop.fs.s3a.connection.ssl.enabled\",\"false\")\n",
    "         .getOrCreate())\n",
    "\n",
    "df = spark.range(5).toDF(\"id\")\n",
    "df.write.format(\"delta\").mode(\"overwrite\").save(\"s3a://cyber/notebook-test\")\n",
    "spark.read.format(\"delta\").load(\"s3a://cyber/notebook-test\").show()"
   ]
  },
  {
   "cell_type": "code",
   "execution_count": 8,
   "id": "cdbcd92f-06a2-4a2a-903a-d2c29f2f5669",
   "metadata": {},
   "outputs": [
    {
     "name": "stdout",
     "output_type": "stream",
     "text": [
      "+---+\n",
      "| id|\n",
      "+---+\n",
      "|  3|\n",
      "|  1|\n",
      "|  2|\n",
      "|  4|\n",
      "|  0|\n",
      "+---+\n",
      "\n"
     ]
    }
   ],
   "source": [
    "spark.sql('''\n",
    "select * from delta.`s3a://cyber/notebook-test`'''\n",
    "         ).show()"
   ]
  },
  {
   "cell_type": "code",
   "execution_count": null,
   "id": "d08c1a2a-3eed-48ca-bcf9-9fa1ee2851ab",
   "metadata": {},
   "outputs": [],
   "source": []
  },
  {
   "cell_type": "code",
   "execution_count": null,
   "id": "97344c3e-44e9-437a-80c6-25ef52c67c69",
   "metadata": {},
   "outputs": [],
   "source": []
  }
 ],
 "metadata": {
  "kernelspec": {
   "display_name": "Python 3 (ipykernel)",
   "language": "python",
   "name": "python3"
  },
  "language_info": {
   "codemirror_mode": {
    "name": "ipython",
    "version": 3
   },
   "file_extension": ".py",
   "mimetype": "text/x-python",
   "name": "python",
   "nbconvert_exporter": "python",
   "pygments_lexer": "ipython3",
   "version": "3.11.2"
  }
 },
 "nbformat": 4,
 "nbformat_minor": 5
}
